{
 "cells": [
  {
   "cell_type": "code",
   "execution_count": 1,
   "metadata": {},
   "outputs": [],
   "source": [
    "import json\n",
    "import requests # type: ignore\n",
    "import pandas as pd # type: ignore\n",
    "from snowflake.connector import connect # type: ignore\n",
    "from snowflake.connector.pandas_tools import write_pandas # type: ignore"
   ]
  },
  {
   "cell_type": "code",
   "execution_count": null,
   "metadata": {},
   "outputs": [],
   "source": [
    "# pd.set_option('display.max_columns', None)   #set_option is used to display the whole output of rows and columns \n",
    "# pd.set_option('display.max_rows', None)"
   ]
  },
  {
   "cell_type": "code",
   "execution_count": null,
   "metadata": {},
   "outputs": [],
   "source": [
    "# pd.reset_option('^display.', silent=True)   #reset_option reverts the set_option"
   ]
  },
  {
   "cell_type": "code",
   "execution_count": null,
   "metadata": {},
   "outputs": [],
   "source": [
    "# type_of_data = data.headers.get('content-type')   #just to check the type of data that has been obtained\n",
    "# type_of_data"
   ]
  },
  {
   "cell_type": "markdown",
   "metadata": {},
   "source": [
    "# For Apple"
   ]
  },
  {
   "cell_type": "code",
   "execution_count": null,
   "metadata": {},
   "outputs": [],
   "source": [
    "# api_url_apple = 'https://newsapi.org/v2/everything?q=Apple&from=2024-06-18&sortBy=popularity&apiKey=193690e15d5c4bb4b7f2345c4586ea00'  \n",
    "# with from as 18-06-2024, it gives me 27 unrequired columns where the content has been removed and the data is sorted by popularity\n",
    "\n",
    "# api_url_apple = 'https://newsapi.org/v2/everything?q=Apple&from=2024-07-01&sortBy=popularity&apiKey=193690e15d5c4bb4b7f2345c4586ea00'  \n",
    "# with from as 01-07-2024, it gives me 19 unrequired columns where the content has been removed and the data is sorted by popularity\n",
    "\n",
    "# api_url_apple = 'https://newsapi.org/v2/everything?q=Apple&from=2024-07-17&sortBy=popularity&apiKey=193690e15d5c4bb4b7f2345c4586ea00'  \n",
    "# with from as 17-07-2024, it gives me 1 unrequired columns where the content has been removed and the data is sorted by popularity"
   ]
  },
  {
   "cell_type": "code",
   "execution_count": null,
   "metadata": {},
   "outputs": [],
   "source": [
    "# from datetime import datetime"
   ]
  },
  {
   "cell_type": "code",
   "execution_count": null,
   "metadata": {},
   "outputs": [],
   "source": [
    "url = 'https://newsapi.org/v2/everything?'\n",
    "\n",
    "con_param = {\n",
    "    'q': 'Apple',\n",
    "    'from': '2024-06-30',\n",
    "    'sortBy': 'popularity',\n",
    "    'apiKey': '193690e15d5c4bb4b7f2345c4586ea00'\n",
    "}"
   ]
  },
  {
   "cell_type": "code",
   "execution_count": null,
   "metadata": {},
   "outputs": [],
   "source": [
    "# to save my api config into json file\n",
    "with open(r'C:\\Users\\JayashreeArunan\\Desktop\\Python\\Data_extraction\\configuration\\api_config.json', 'w') as file:\n",
    "    json.dump(con_param, file, indent=4)"
   ]
  },
  {
   "cell_type": "code",
   "execution_count": null,
   "metadata": {},
   "outputs": [],
   "source": [
    "data_apple = requests.get(url, params=con_param).json()\n",
    "data_apple"
   ]
  },
  {
   "cell_type": "code",
   "execution_count": null,
   "metadata": {},
   "outputs": [],
   "source": [
    "data_apple1 = json.dumps(data_apple)"
   ]
  },
  {
   "cell_type": "code",
   "execution_count": null,
   "metadata": {},
   "outputs": [],
   "source": [
    "apple_dict = json.loads(data_apple1)\n",
    "apple_dict"
   ]
  },
  {
   "cell_type": "code",
   "execution_count": null,
   "metadata": {},
   "outputs": [],
   "source": [
    "df_apple = pd.DataFrame(apple_dict['articles'])\n",
    "df_apple.shape"
   ]
  },
  {
   "cell_type": "code",
   "execution_count": null,
   "metadata": {},
   "outputs": [],
   "source": [
    "df_apple"
   ]
  },
  {
   "cell_type": "code",
   "execution_count": null,
   "metadata": {},
   "outputs": [],
   "source": [
    "df_apple.isnull().count()"
   ]
  },
  {
   "cell_type": "code",
   "execution_count": null,
   "metadata": {},
   "outputs": [],
   "source": [
    "# df_apple['source'] = df_apple['source'].apply(lambda x: x.get('name'))  #works row-wise\n",
    "df_apple['source_id'] = pd.json_normalize(df_apple['source']).get('id')    #works column-wise\n",
    "df_apple['source_name'] = pd.json_normalize(df_apple['source']).get('name') \n",
    "df_apple"
   ]
  },
  {
   "cell_type": "code",
   "execution_count": null,
   "metadata": {},
   "outputs": [],
   "source": [
    "df_apple[df_apple['content']=='[Removed]'].count()"
   ]
  },
  {
   "cell_type": "code",
   "execution_count": null,
   "metadata": {},
   "outputs": [],
   "source": [
    "df_apple = df_apple.drop(df_apple[df_apple['content']=='[Removed]'].index)"
   ]
  },
  {
   "cell_type": "code",
   "execution_count": null,
   "metadata": {},
   "outputs": [],
   "source": [
    "df_apple = df_apple.drop('source', axis=1)"
   ]
  },
  {
   "cell_type": "code",
   "execution_count": null,
   "metadata": {},
   "outputs": [],
   "source": [
    "df_apple[df_apple['content']=='[Removed]'].count()"
   ]
  },
  {
   "cell_type": "code",
   "execution_count": null,
   "metadata": {},
   "outputs": [],
   "source": [
    "df_apple.shape"
   ]
  },
  {
   "cell_type": "code",
   "execution_count": null,
   "metadata": {},
   "outputs": [],
   "source": [
    "first = df_apple.pop('source_id')\n",
    "second = df_apple.pop('source_name')"
   ]
  },
  {
   "cell_type": "code",
   "execution_count": null,
   "metadata": {},
   "outputs": [],
   "source": [
    "df_apple.insert(0, 'source_id', first)\n",
    "df_apple.insert(1, 'source_name', second)"
   ]
  },
  {
   "cell_type": "code",
   "execution_count": null,
   "metadata": {},
   "outputs": [],
   "source": [
    "df_apple"
   ]
  },
  {
   "cell_type": "code",
   "execution_count": null,
   "metadata": {},
   "outputs": [],
   "source": [
    "df_apple.to_csv('Data_apple.csv')"
   ]
  },
  {
   "cell_type": "markdown",
   "metadata": {},
   "source": [
    "# For Anime"
   ]
  },
  {
   "cell_type": "code",
   "execution_count": null,
   "metadata": {},
   "outputs": [],
   "source": [
    "api_url_anime = 'https://newsapi.org/v2/everything?q=Anime&from=2024-06-30&sortBy=popularity&apiKey=193690e15d5c4bb4b7f2345c4586ea00'  \n",
    "# with from as 18-06-2024, it gives me 0 unrequired columns where the content has been removed and the data is sorted by popularity\n",
    "\n",
    "# api_url_anime = 'https://newsapi.org/v2/everything?q=Anime&from=2024-07-01&sortBy=popularity&apiKey=193690e15d5c4bb4b7f2345c4586ea00'  \n",
    "# with from as 01-07-2024, it gives me 0 unrequired columns where the content has been removed and the data is sorted by popularity\n",
    "\n",
    "# api_url_anime = 'https://newsapi.org/v2/everything?q=Anime&from=2024-07-17&sortBy=popularity&apiKey=193690e15d5c4bb4b7f2345c4586ea00'  \n",
    "# with from as 17-07-2024, it gives me 0 unrequired columns where the content has been removed and the data is sorted by popularity"
   ]
  },
  {
   "cell_type": "code",
   "execution_count": null,
   "metadata": {},
   "outputs": [],
   "source": [
    "data_anime = requests.get(api_url_anime).json()\n",
    "data_anime"
   ]
  },
  {
   "cell_type": "code",
   "execution_count": null,
   "metadata": {},
   "outputs": [],
   "source": [
    "data_anime1 = json.dumps(data_anime)"
   ]
  },
  {
   "cell_type": "code",
   "execution_count": null,
   "metadata": {},
   "outputs": [],
   "source": [
    "anime_dict = json.loads(data_anime1)\n",
    "anime_dict"
   ]
  },
  {
   "cell_type": "code",
   "execution_count": null,
   "metadata": {},
   "outputs": [],
   "source": [
    "df_anime = pd.DataFrame(anime_dict['articles'])\n",
    "df_anime.shape"
   ]
  },
  {
   "cell_type": "code",
   "execution_count": null,
   "metadata": {},
   "outputs": [],
   "source": [
    "df_anime"
   ]
  },
  {
   "cell_type": "code",
   "execution_count": null,
   "metadata": {},
   "outputs": [],
   "source": [
    "df_anime.isnull().count()"
   ]
  },
  {
   "cell_type": "code",
   "execution_count": null,
   "metadata": {},
   "outputs": [],
   "source": [
    "# df_anime['source'] = df_anime['source'].apply(lambda x: x.get('name'))  #works row-wise\n",
    "df_anime['source_id'] = pd.json_normalize(df_anime['source']).get('id')    #works column-wise\n",
    "df_anime['source_name'] = pd.json_normalize(df_anime['source']).get('name') \n",
    "df_anime"
   ]
  },
  {
   "cell_type": "code",
   "execution_count": null,
   "metadata": {},
   "outputs": [],
   "source": [
    "df_anime[df_anime['content']=='[Removed]'].count()"
   ]
  },
  {
   "cell_type": "code",
   "execution_count": null,
   "metadata": {},
   "outputs": [],
   "source": [
    "df_anime = df_anime.drop(df_anime[df_anime['content']=='[Removed]'].index)"
   ]
  },
  {
   "cell_type": "code",
   "execution_count": null,
   "metadata": {},
   "outputs": [],
   "source": [
    "df_anime = df_anime.drop('source', axis=1)"
   ]
  },
  {
   "cell_type": "code",
   "execution_count": null,
   "metadata": {},
   "outputs": [],
   "source": [
    "df_anime[df_anime['content']=='[Removed]'].count()"
   ]
  },
  {
   "cell_type": "code",
   "execution_count": null,
   "metadata": {},
   "outputs": [],
   "source": [
    "df_anime.shape"
   ]
  },
  {
   "cell_type": "code",
   "execution_count": null,
   "metadata": {},
   "outputs": [],
   "source": [
    "first = df_anime.pop('source_id')\n",
    "second = df_anime.pop('source_name')"
   ]
  },
  {
   "cell_type": "code",
   "execution_count": null,
   "metadata": {},
   "outputs": [],
   "source": [
    "df_anime.insert(0, 'source_id', first)\n",
    "df_anime.insert(1, 'source_name', second)"
   ]
  },
  {
   "cell_type": "code",
   "execution_count": null,
   "metadata": {},
   "outputs": [],
   "source": [
    "df_anime"
   ]
  },
  {
   "cell_type": "code",
   "execution_count": null,
   "metadata": {},
   "outputs": [],
   "source": [
    "df_anime.to_csv('Data_anime.csv')"
   ]
  },
  {
   "cell_type": "markdown",
   "metadata": {},
   "source": [
    "# For Bitcoin"
   ]
  },
  {
   "cell_type": "code",
   "execution_count": null,
   "metadata": {},
   "outputs": [],
   "source": [
    "# api_url_bitcoin = 'https://newsapi.org/v2/everything?q=bitcoin&from=2024-06-18&sortBy=popularity&apiKey=193690e15d5c4bb4b7f2345c4586ea00'  \n",
    "# with from as 18-06-2024, it gives me 0 unrequired columns where the content has been removed and the data is sorted by popularity\n",
    "\n",
    "# api_url_bitcoin = 'https://newsapi.org/v2/everything?q=bitcoin&from=2024-07-01&sortBy=popularity&apiKey=193690e15d5c4bb4b7f2345c4586ea00'  \n",
    "# with from as 01-07-2024, it gives me 0 unrequired columns where the content has been removed and the data is sorted by popularity\n",
    "\n",
    "api_url_bitcoin = 'https://newsapi.org/v2/everything?q=bitcoin&from=2024-07-17&sortBy=popularity&apiKey=193690e15d5c4bb4b7f2345c4586ea00'  \n",
    "# with from as 17-07-2024, it gives me 4 unrequired columns where the content has been removed and the data is sorted by popularity"
   ]
  },
  {
   "cell_type": "code",
   "execution_count": null,
   "metadata": {},
   "outputs": [],
   "source": [
    "data_bitcoin = requests.get(api_url_bitcoin).json()\n",
    "data_bitcoin"
   ]
  },
  {
   "cell_type": "code",
   "execution_count": null,
   "metadata": {},
   "outputs": [],
   "source": [
    "data_bitcoin1 = json.dumps(data_bitcoin)"
   ]
  },
  {
   "cell_type": "code",
   "execution_count": null,
   "metadata": {},
   "outputs": [],
   "source": [
    "bitcoin_dict = json.loads(data_bitcoin1)\n",
    "bitcoin_dict"
   ]
  },
  {
   "cell_type": "code",
   "execution_count": null,
   "metadata": {},
   "outputs": [],
   "source": [
    "df_bitcoin = pd.DataFrame(bitcoin_dict['articles'])\n",
    "df_bitcoin.shape"
   ]
  },
  {
   "cell_type": "code",
   "execution_count": null,
   "metadata": {},
   "outputs": [],
   "source": [
    "df_bitcoin"
   ]
  },
  {
   "cell_type": "code",
   "execution_count": null,
   "metadata": {},
   "outputs": [],
   "source": [
    "df_bitcoin.isnull().count()"
   ]
  },
  {
   "cell_type": "code",
   "execution_count": null,
   "metadata": {},
   "outputs": [],
   "source": [
    "# df_bitcoin['source'] = df_bitcoin['source'].apply(lambda x: x.get('name'))  #works row-wise\n",
    "df_bitcoin['source_id'] = pd.json_normalize(df_bitcoin['source']).get('id')    #works column-wise\n",
    "df_bitcoin['source_name'] = pd.json_normalize(df_bitcoin['source']).get('name') \n",
    "df_bitcoin"
   ]
  },
  {
   "cell_type": "code",
   "execution_count": null,
   "metadata": {},
   "outputs": [],
   "source": [
    "df_bitcoin[df_bitcoin['content']=='[Removed]'].count()"
   ]
  },
  {
   "cell_type": "code",
   "execution_count": null,
   "metadata": {},
   "outputs": [],
   "source": [
    "df_bitcoin = df_bitcoin.drop(df_bitcoin[df_bitcoin['content']=='[Removed]'].index)"
   ]
  },
  {
   "cell_type": "code",
   "execution_count": null,
   "metadata": {},
   "outputs": [],
   "source": [
    "df_bitcoin = df_bitcoin.drop('source', axis=1)"
   ]
  },
  {
   "cell_type": "code",
   "execution_count": null,
   "metadata": {},
   "outputs": [],
   "source": [
    "df_bitcoin[df_bitcoin['content']=='[Removed]'].count()"
   ]
  },
  {
   "cell_type": "code",
   "execution_count": null,
   "metadata": {},
   "outputs": [],
   "source": [
    "df_bitcoin.shape"
   ]
  },
  {
   "cell_type": "code",
   "execution_count": null,
   "metadata": {},
   "outputs": [],
   "source": [
    "first = df_bitcoin.pop('source_id')\n",
    "second = df_bitcoin.pop('source_name')"
   ]
  },
  {
   "cell_type": "code",
   "execution_count": null,
   "metadata": {},
   "outputs": [],
   "source": [
    "df_bitcoin.insert(0, 'source_id', first)\n",
    "df_bitcoin.insert(1, 'source_name', second)"
   ]
  },
  {
   "cell_type": "code",
   "execution_count": null,
   "metadata": {},
   "outputs": [],
   "source": [
    "df_bitcoin"
   ]
  },
  {
   "cell_type": "code",
   "execution_count": null,
   "metadata": {},
   "outputs": [],
   "source": [
    "df_bitcoin.to_csv('Data_bitcoin.csv')"
   ]
  },
  {
   "cell_type": "markdown",
   "metadata": {},
   "source": [
    "# Snowflake-Connector"
   ]
  },
  {
   "cell_type": "markdown",
   "metadata": {},
   "source": [
    "## For apple csv"
   ]
  },
  {
   "cell_type": "code",
   "execution_count": 3,
   "metadata": {},
   "outputs": [],
   "source": [
    "connect_param = connect(\n",
    "    user = 'jayashree',\n",
    "    password = 'Snowflake@1234',\n",
    "    account = 'my90030.ap-southeast-1',\n",
    "    role = 'ACCOUNTADMIN',\n",
    "    warehouse = 'COMPUTE_WH',\n",
    "    database = 'DATA_EXTRACTION',\n",
    "    schema = 'APPLE_CSV'\n",
    ")"
   ]
  },
  {
   "cell_type": "code",
   "execution_count": null,
   "metadata": {},
   "outputs": [],
   "source": [
    "# cs = connect_param.cursor()"
   ]
  },
  {
   "cell_type": "code",
   "execution_count": null,
   "metadata": {},
   "outputs": [],
   "source": [
    "# table = 'APPLE_TABLE'"
   ]
  },
  {
   "cell_type": "code",
   "execution_count": null,
   "metadata": {},
   "outputs": [],
   "source": [
    "write_pandas(connect_param, df_apple, 'APPLE_TABLE', auto_create_table=True, overwrite=True)"
   ]
  },
  {
   "cell_type": "markdown",
   "metadata": {},
   "source": [
    "## For anime csv"
   ]
  },
  {
   "cell_type": "code",
   "execution_count": null,
   "metadata": {},
   "outputs": [],
   "source": [
    "connect_param1 = connect(\n",
    "    user = 'jayashree',\n",
    "    password = 'Snowflake@1234',\n",
    "    account = 'my90030.ap-southeast-1',\n",
    "    role = 'ACCOUNTADMIN',\n",
    "    warehouse = 'COMPUTE_WH',\n",
    "    database = 'DATA_EXTRACTION',\n",
    "    schema = 'ANIME_CSV'\n",
    ")"
   ]
  },
  {
   "cell_type": "code",
   "execution_count": null,
   "metadata": {},
   "outputs": [],
   "source": [
    "# cs = connect_param.cursor()"
   ]
  },
  {
   "cell_type": "code",
   "execution_count": null,
   "metadata": {},
   "outputs": [],
   "source": [
    "# table = 'ANIME_TABLE'"
   ]
  },
  {
   "cell_type": "code",
   "execution_count": null,
   "metadata": {},
   "outputs": [],
   "source": [
    "write_pandas(connect_param1, df_anime, 'ANIME_TABLE', auto_create_table=True, overwrite=True)"
   ]
  },
  {
   "cell_type": "markdown",
   "metadata": {},
   "source": [
    "## For bitcoin csv"
   ]
  },
  {
   "cell_type": "code",
   "execution_count": null,
   "metadata": {},
   "outputs": [],
   "source": [
    "connect_param2 = connect(\n",
    "    user = 'jayashree',\n",
    "    password = 'Snowflake@1234',\n",
    "    account = 'my90030.ap-southeast-1',\n",
    "    role = 'ACCOUNTADMIN',\n",
    "    warehouse = 'COMPUTE_WH',\n",
    "    database = 'DATA_EXTRACTION',\n",
    "    schema = 'BITCOIN_CSV'\n",
    ")"
   ]
  },
  {
   "cell_type": "code",
   "execution_count": null,
   "metadata": {},
   "outputs": [],
   "source": [
    "# cs = connect_param2.cursor()"
   ]
  },
  {
   "cell_type": "code",
   "execution_count": null,
   "metadata": {},
   "outputs": [],
   "source": [
    "# table = 'BITCOIN_TABLE'"
   ]
  },
  {
   "cell_type": "code",
   "execution_count": null,
   "metadata": {},
   "outputs": [],
   "source": [
    "write_pandas(connect_param2, df_bitcoin, 'BITCOIN_TABLE', auto_create_table=True, overwrite=True)"
   ]
  }
 ],
 "metadata": {
  "kernelspec": {
   "display_name": "Python 3",
   "language": "python",
   "name": "python3"
  },
  "language_info": {
   "codemirror_mode": {
    "name": "ipython",
    "version": 3
   },
   "file_extension": ".py",
   "mimetype": "text/x-python",
   "name": "python",
   "nbconvert_exporter": "python",
   "pygments_lexer": "ipython3",
   "version": "3.12.3"
  }
 },
 "nbformat": 4,
 "nbformat_minor": 2
}
